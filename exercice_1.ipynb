{
 "cells": [
  {
   "cell_type": "code",
   "execution_count": 110,
   "id": "c2a40549",
   "metadata": {},
   "outputs": [],
   "source": [
    "import sklearn\n",
    "from math import exp"
   ]
  },
  {
   "cell_type": "code",
   "execution_count": 54,
   "id": "d65672b3",
   "metadata": {},
   "outputs": [],
   "source": [
    "x1 = 1.0\n",
    "x2 = -3.1\n",
    "x3 = -7.2\n",
    "x4 = 2.1\n",
    "\n",
    "w1= 2.1\n",
    "w2 = 1.2\n",
    "w3= 0.3\n",
    "w4= 1.3"
   ]
  },
  {
   "cell_type": "code",
   "execution_count": 55,
   "id": "d6fcfedd",
   "metadata": {},
   "outputs": [],
   "source": [
    "X = [x1, x2, x3, x4]\n",
    "poids = [w1, w2, w3, w4]"
   ]
  },
  {
   "cell_type": "code",
   "execution_count": 56,
   "id": "c4d45488",
   "metadata": {},
   "outputs": [],
   "source": [
    "def lin_reg1(liste1, liste2, b):\n",
    "    entree = 0\n",
    "    for i, j in zip(liste1, liste2):\n",
    "        entree = entree + (i*j)\n",
    "    \n",
    "    entree = entree+b\n",
    "   \n",
    "    return entree              "
   ]
  },
  {
   "cell_type": "code",
   "execution_count": 60,
   "id": "bcd14c0b",
   "metadata": {},
   "outputs": [
    {
     "data": {
      "text/plain": [
       "-4.049999999999999"
      ]
     },
     "execution_count": 60,
     "metadata": {},
     "output_type": "execute_result"
    }
   ],
   "source": [
    "x= lin_reg1(X, poids, -3.0)\n",
    "x"
   ]
  },
  {
   "cell_type": "code",
   "execution_count": 61,
   "id": "a733c20e",
   "metadata": {},
   "outputs": [],
   "source": [
    "def Relu(x):\n",
    "    if x >=0 :\n",
    "        out_1= x\n",
    "    elif x < 0 :\n",
    "        out_1 = 0\n",
    "    return out_1"
   ]
  },
  {
   "cell_type": "code",
   "execution_count": 62,
   "id": "64c6a315",
   "metadata": {},
   "outputs": [
    {
     "data": {
      "text/plain": [
       "0"
      ]
     },
     "execution_count": 62,
     "metadata": {},
     "output_type": "execute_result"
    }
   ],
   "source": [
    "Relu(x)"
   ]
  },
  {
   "cell_type": "markdown",
   "id": "8c0700a2",
   "metadata": {},
   "source": [
    "## Maintenant construisons une autre sortie"
   ]
  },
  {
   "cell_type": "markdown",
   "id": "51043573",
   "metadata": {},
   "source": [
    "En appliquant une autre régression linaire  linreg_2 sur  la même entrée X et les poids \n",
    "w1=0.1 ; w2=1.2; w3=4.9; w4=3.1 et le biais b = -5 Suivie par la même fonction d’activation activation\n"
   ]
  },
  {
   "cell_type": "code",
   "execution_count": 80,
   "id": "441e3436",
   "metadata": {},
   "outputs": [],
   "source": [
    "poids_reg2 = [0.1, 1.2, 4.9, 3.1]"
   ]
  },
  {
   "cell_type": "code",
   "execution_count": 83,
   "id": "6a251a2c",
   "metadata": {},
   "outputs": [],
   "source": [
    "def linreg_2(liste1, liste_poids, b):\n",
    "    entree = 0\n",
    "    for i, j in zip(liste1, liste_poids):\n",
    "        entree = entree +(i*j)\n",
    "    \n",
    "    entree = entree+b\n",
    "   \n",
    "    return entree  "
   ]
  },
  {
   "cell_type": "code",
   "execution_count": 87,
   "id": "3679b5af",
   "metadata": {},
   "outputs": [
    {
     "name": "stdout",
     "output_type": "stream",
     "text": [
      "-37.39\n"
     ]
    },
    {
     "data": {
      "text/plain": [
       "0"
      ]
     },
     "execution_count": 87,
     "metadata": {},
     "output_type": "execute_result"
    }
   ],
   "source": [
    "couche_2=linreg_2(X, poids_reg2, -5)\n",
    "print(couche_2)\n",
    "Relu(couche_2)"
   ]
  },
  {
   "cell_type": "markdown",
   "id": "a80a0261",
   "metadata": {},
   "source": [
    "ET une troisième sortie linreg_3   sur  la même entrée X et les poids \n",
    "w1=0.4 ; w2=2.6; w3=2.5; w4=3.8 et le biais b = -8\n",
    "Suivie par la même fonction d’activation activation"
   ]
  },
  {
   "cell_type": "code",
   "execution_count": 104,
   "id": "1631b047",
   "metadata": {},
   "outputs": [],
   "source": [
    "poids_reg3 = [0.4,2.6, 2.5, 3.8]"
   ]
  },
  {
   "cell_type": "code",
   "execution_count": 105,
   "id": "84e5dfe5",
   "metadata": {},
   "outputs": [],
   "source": [
    "def linreg_3(liste1, liste_poids, b):\n",
    "      return linreg_2(liste1, liste_poids, b)\n",
    "            \n",
    "     "
   ]
  },
  {
   "cell_type": "code",
   "execution_count": 107,
   "id": "e7b6832e",
   "metadata": {},
   "outputs": [
    {
     "name": "stdout",
     "output_type": "stream",
     "text": [
      "-25.68\n"
     ]
    },
    {
     "data": {
      "text/plain": [
       "0"
      ]
     },
     "execution_count": 107,
     "metadata": {},
     "output_type": "execute_result"
    }
   ],
   "source": [
    "couche_3 = linreg_3(X, poids_reg3, -8)\n",
    "print(couche_3)\n",
    "Relu(couche_3)"
   ]
  },
  {
   "cell_type": "markdown",
   "id": "bdc2c3e4",
   "metadata": {},
   "source": [
    "## 4/ utilisez les 3 sorties de cette couche comme entrées d’une autre couche\n",
    "\n",
    "Pour effectuer la combinaison linéaire,  implémentez la fonction linreg_next_layer   avec les poids et les poids w1=1.1 ; w2=-4.1; w3=0.7 et le biais b = 5.1\n",
    "Pour cette dernière couche, implémentez la dernière fonction d’activation activation_next_layer qui retourne 1/( 1 + exp(-x) ) : c’est la sigmoideCalculer donc la sortie y_pred de cette couche \n",
    "\n",
    "🎉 Félicitations! Vous venez d’implementer votre premier reseau de neurone ( artificiel)"
   ]
  },
  {
   "cell_type": "code",
   "execution_count": 109,
   "id": "4cf9fceb",
   "metadata": {},
   "outputs": [
    {
     "name": "stdout",
     "output_type": "stream",
     "text": [
      "13.87\n"
     ]
    },
    {
     "data": {
      "text/plain": [
       "13.87"
      ]
     },
     "execution_count": 109,
     "metadata": {},
     "output_type": "execute_result"
    }
   ],
   "source": [
    "poids_exo_4 = [1.1,-4.1,0.7]\n",
    "\n",
    "def linreg_next_layer(liste1, liste_poids, b):\n",
    "    return linreg_3(liste1, liste_poids, b)\n",
    "\n",
    "couche_4 = linreg_next_layer(X, poids_exo_4, 5.1)\n",
    "print(couche_4)\n",
    "Relu(couche_4)"
   ]
  },
  {
   "cell_type": "code",
   "execution_count": 113,
   "id": "0367115d",
   "metadata": {},
   "outputs": [],
   "source": [
    "def activation_next_layer (x):\n",
    "    resultat = 1/( 1 + exp(-x) )\n",
    "    return resultat "
   ]
  },
  {
   "cell_type": "code",
   "execution_count": 114,
   "id": "2675a005",
   "metadata": {},
   "outputs": [
    {
     "data": {
      "text/plain": [
       "0.9999990530323898"
      ]
     },
     "execution_count": 114,
     "metadata": {},
     "output_type": "execute_result"
    }
   ],
   "source": [
    "activation_next_layer(couche_4)"
   ]
  },
  {
   "cell_type": "code",
   "execution_count": null,
   "id": "e5359264",
   "metadata": {},
   "outputs": [],
   "source": []
  }
 ],
 "metadata": {
  "kernelspec": {
   "display_name": "Python 3 (ipykernel)",
   "language": "python",
   "name": "python3"
  },
  "language_info": {
   "codemirror_mode": {
    "name": "ipython",
    "version": 3
   },
   "file_extension": ".py",
   "mimetype": "text/x-python",
   "name": "python",
   "nbconvert_exporter": "python",
   "pygments_lexer": "ipython3",
   "version": "3.9.12"
  }
 },
 "nbformat": 4,
 "nbformat_minor": 5
}
